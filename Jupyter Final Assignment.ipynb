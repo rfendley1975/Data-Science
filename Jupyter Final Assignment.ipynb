{
 "cells": [
  {
   "cell_type": "markdown",
   "id": "b642c48a-c959-4bba-92db-ed7a7b7e8738",
   "metadata": {},
   "source": [
    " # My Jupyter Notebook on IBM Watson Studio"
   ]
  },
  {
   "cell_type": "markdown",
   "id": "af97b57e-e2b4-432e-81b6-2c993e348b56",
   "metadata": {},
   "source": [
    "**Ryan Fendley**\n",
    "\n",
    "Small Business Consultant"
   ]
  },
  {
   "cell_type": "markdown",
   "id": "79fd6dcb-d99a-4b86-8c4f-6403c02b52d9",
   "metadata": {},
   "source": [
    "*I am interested in data science because it is a nice compliment to my current occupation.  Helping small businesses grow, or fix struggling units, and showing the entrepreneurs the analytics behind my recommendations gives them more meaning.* "
   ]
  },
  {
   "cell_type": "markdown",
   "id": "91a4622d-a047-44e2-aa29-430116225a95",
   "metadata": {},
   "source": [
    "### Multiplying 7 by 6"
   ]
  },
  {
   "cell_type": "code",
   "execution_count": 1,
   "id": "5876541d-bfa9-47b7-bc05-ffa2000a5614",
   "metadata": {},
   "outputs": [
    {
     "data": {
      "text/plain": [
       "42"
      ]
     },
     "execution_count": 1,
     "metadata": {},
     "output_type": "execute_result"
    }
   ],
   "source": [
    "7 * 6"
   ]
  },
  {
   "cell_type": "markdown",
   "id": "358cd115-3ac8-4419-8b28-0bb36627b586",
   "metadata": {},
   "source": [
    "* Apple\n",
    "* Orange\n",
    "* Banana\n",
    "\n",
    "- Apple\n",
    "- Orange\n",
    "- Banana\n",
    "\n",
    "[Link](http://corsera.org)"
   ]
  },
  {
   "cell_type": "code",
   "execution_count": null,
   "id": "5df9b243-096b-4ee1-98e8-55f4d70dea3e",
   "metadata": {},
   "outputs": [],
   "source": []
  }
 ],
 "metadata": {
  "kernelspec": {
   "display_name": "Python",
   "language": "python",
   "name": "conda-env-python-py"
  },
  "language_info": {
   "codemirror_mode": {
    "name": "ipython",
    "version": 3
   },
   "file_extension": ".py",
   "mimetype": "text/x-python",
   "name": "python",
   "nbconvert_exporter": "python",
   "pygments_lexer": "ipython3",
   "version": "3.7.12"
  }
 },
 "nbformat": 4,
 "nbformat_minor": 5
}
